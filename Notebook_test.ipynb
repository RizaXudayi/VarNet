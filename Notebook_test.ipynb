{
 "cells": [
  {
   "cell_type": "markdown",
   "metadata": {},
   "source": [
    "# Introduction\n",
    "Operator code for VarNet class to solve the 2D steady-state AD-PDE in a convex\n",
    "source-free domain. The PDE input-data are obtained using ANSYS and the FE \n",
    "solution is used as the benchmark for comparison.\n",
    "The goal here is to diagnose the reason behind failure of the algorithm for \n",
    "experimental domain."
   ]
  },
  {
   "cell_type": "code",
   "execution_count": 1,
   "metadata": {},
   "outputs": [],
   "source": [
    "import scipy.io as spio\n",
    "from scipy import interpolate\n",
    "#import scipy.sparse as sparse\n",
    "#from scipy.sparse.linalg import spsolve\n",
    "\n",
    "import numpy as np\n",
    "import numpy.linalg as la\n",
    "shape = np.shape\n",
    "reshape = np.reshape\n",
    "\n",
    "from Domain import PolygonDomain2D\n",
    "from ContourPlot import ContourPlot\n",
    "from ADPDE import ADPDE\n",
    "from VarNet import VarNet\n",
    "from UtilityFunc import UF\n",
    "uf = UF()\n",
    "\n",
    "import matplotlib.pyplot as plt\n",
    "from IPython import get_ipython\n",
    "get_ipython().run_line_magic('matplotlib', 'inline')"
   ]
  },
  {
   "cell_type": "code",
   "execution_count": null,
   "metadata": {},
   "outputs": [],
   "source": []
  }
 ],
 "metadata": {
  "kernelspec": {
   "display_name": "Python 3",
   "language": "python",
   "name": "python3"
  },
  "language_info": {
   "codemirror_mode": {
    "name": "ipython",
    "version": 3
   },
   "file_extension": ".py",
   "mimetype": "text/x-python",
   "name": "python",
   "nbconvert_exporter": "python",
   "pygments_lexer": "ipython3",
   "version": "3.6.7"
  }
 },
 "nbformat": 4,
 "nbformat_minor": 2
}
